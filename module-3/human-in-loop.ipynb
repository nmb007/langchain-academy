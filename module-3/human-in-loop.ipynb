{
 "cells": [
  {
   "cell_type": "code",
   "execution_count": 1,
   "id": "fa4adbf6-62a3-4a6d-879f-d927920f1060",
   "metadata": {},
   "outputs": [
    {
     "data": {
      "text/plain": [
       "True"
      ]
     },
     "execution_count": 1,
     "metadata": {},
     "output_type": "execute_result"
    }
   ],
   "source": [
    "from dotenv import load_dotenv\n",
    "\n",
    "# Load environment variables from .env file\n",
    "load_dotenv()"
   ]
  },
  {
   "cell_type": "code",
   "execution_count": 3,
   "id": "f71d5e83",
   "metadata": {
    "vscode": {
     "languageId": "plaintext"
    }
   },
   "outputs": [
    {
     "data": {
      "image/png": "[encoded data removed]",
      "text/plain": [
       "<IPython.core.display.Image object>"
      ]
     },
     "metadata": {},
     "output_type": "display_data"
    }
   ],
   "source": [
    "import uuid\n",
    "from typing import Optional\n",
    "from typing_extensions import TypedDict\n",
    "from IPython.display import Image, display\n",
    "\n",
    "from langgraph.checkpoint.memory import InMemorySaver\n",
    "from langgraph.constants import START\n",
    "from langgraph.graph import StateGraph\n",
    "from langgraph.types import interrupt, Command\n",
    "\n",
    "\n",
    "class State(TypedDict):\n",
    "    \"\"\"The graph state.\"\"\"\n",
    "\n",
    "    foo: str\n",
    "    human_value: Optional[str]\n",
    "    \"\"\"Human value will be updated using an interrupt.\"\"\"\n",
    "\n",
    "\n",
    "def node(state: State):\n",
    "    answer = interrupt(\n",
    "        # This value will be sent to the client\n",
    "        # as part of the interrupt information.\n",
    "        \"what is your age?\"\n",
    "    )\n",
    "    print(f\"> Received an input from the interrupt: {answer}\")\n",
    "    return {\"human_value\": answer}\n",
    "\n",
    "\n",
    "builder = StateGraph(State)\n",
    "builder.add_node(\"node\", node)\n",
    "builder.add_edge(START, \"node\")\n",
    "\n",
    "# A checkpointer must be enabled for interrupts to work!\n",
    "checkpointer = InMemorySaver()\n",
    "graph = builder.compile(checkpointer=checkpointer)\n",
    "display(Image(graph.get_graph().draw_mermaid_png()))\n"
   ]
  },
  {
   "cell_type": "code",
   "execution_count": 4,
   "id": "624d166d",
   "metadata": {
    "vscode": {
     "languageId": "plaintext"
    }
   },
   "outputs": [
    {
     "name": "stdout",
     "output_type": "stream",
     "text": [
      "{'__interrupt__': (Interrupt(value='what is your age?', id='fcdeabfb12f0178dd4a634a9159ab306'),)}\n"
     ]
    }
   ],
   "source": [
    "\n",
    "config = {\n",
    "    \"configurable\": {\n",
    "        \"thread_id\": uuid.uuid4(),\n",
    "    }\n",
    "}\n",
    "\n",
    "for chunk in graph.stream({\"foo\": \"abc\"}, config):\n",
    "    print(chunk)\n",
    "\n",
    "# > {'__interrupt__': (Interrupt(value='what is your age?', id='45fda8478b2ef754419799e10992af06'),)}\n"
   ]
  },
  {
   "cell_type": "code",
   "execution_count": 5,
   "id": "a0c4d81e-83eb-47ce-a717-edee5493b462",
   "metadata": {},
   "outputs": [
    {
     "name": "stdout",
     "output_type": "stream",
     "text": [
      "> Received an input from the interrupt: some input from a human!!!\n",
      "{'node': {'human_value': 'some input from a human!!!'}}\n"
     ]
    }
   ],
   "source": [
    "command = Command(resume=\"some input from a human!!!\")\n",
    "\n",
    "for chunk in graph.stream(command, config):\n",
    "    print(chunk)\n",
    "\n",
    "# > Received an input from the interrupt: some input from a human!!!\n",
    "# > {'node': {'human_value': 'some input from a human!!!'}}"
   ]
  },
  {
   "cell_type": "code",
   "execution_count": null,
   "id": "1d952bbd-2136-4c9d-87a9-7fdf8b52d196",
   "metadata": {},
   "outputs": [],
   "source": []
  }
 ],
 "metadata": {
  "kernelspec": {
   "display_name": "Python 3 (ipykernel)",
   "language": "python",
   "name": "python3"
  },
  "language_info": {
   "codemirror_mode": {
    "name": "ipython",
    "version": 3
   },
   "file_extension": ".py",
   "mimetype": "text/x-python",
   "name": "python",
   "nbconvert_exporter": "python",
   "pygments_lexer": "ipython3",
   "version": "3.13.3"
  }
 },
 "nbformat": 4,
 "nbformat_minor": 5
}
