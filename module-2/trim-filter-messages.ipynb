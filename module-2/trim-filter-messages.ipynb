{
 "cells": [
  {
   "cell_type": "markdown",
   "id": "fb0ebaf1",
   "metadata": {},
   "source": [
    "[![Open in Colab](https://colab.research.google.com/assets/colab-badge.svg)](https://colab.research.google.com/github/langchain-ai/langchain-academy/blob/main/module-2/trim-filter-messages.ipynb) [![Open in LangChain Academy](https://cdn.prod.website-files.com/65b8cd72835ceeacd4449a53/66e9eba12c7b7688aa3dbb5e_LCA-badge-green.svg)](https://academy.langchain.com/courses/take/intro-to-langgraph/lessons/58239435-lesson-4-trim-and-filter-messages)"
   ]
  },
  {
   "cell_type": "markdown",
   "id": "c52ea2f9-03ff-4647-b782-46867ebed04e",
   "metadata": {},
   "source": [
    "# Filtering and trimming messages\n",
    "\n",
    "## Review\n",
    "\n",
    "Now, we have a deeper understanding of a few things: \n",
    "\n",
    "* How to customize the graph state schema\n",
    "* How to define custom state reducers\n",
    "* How to use multiple graph state schemas\n",
    "\n",
    "## Goals\n",
    "\n",
    "Now, we can start using these concepts with models in LangGraph!\n",
    " \n",
    "In the next few sessions, we'll build towards a chatbot that has long-term memory.\n",
    "\n",
    "Because our chatbot will use messages, let's first talk a bit more about advanced ways to work with messages in graph state."
   ]
  },
  {
   "cell_type": "code",
   "execution_count": null,
   "id": "d5197aba-5d46-421b-ae3b-4e3034edcfda",
   "metadata": {},
   "outputs": [],
   "source": [
    "%%capture --no-stderr\n",
    "%pip install --quiet -U langchain_core langgraph langchain_openai"
   ]
  },
  {
   "cell_type": "code",
   "execution_count": 1,
   "id": "768dc606-d5f2-468d-96ea-910b264e0f8a",
   "metadata": {},
   "outputs": [],
   "source": [
    "import os, getpass\n",
    "from dotenv import load_dotenv\n",
    "\n",
    "# Load environment variables from .env file\n",
    "load_dotenv()\n",
    "\n",
    "def _set_env(var: str):\n",
    "    if not os.environ.get(var):\n",
    "        os.environ[var] = getpass.getpass(f\"{var}: \")\n",
    "\n",
    "#_set_env(\"OPENAI_API_KEY\")"
   ]
  },
  {
   "cell_type": "markdown",
   "id": "8b64d8d3-e4ac-4961-bdc0-688825eb5864",
   "metadata": {},
   "source": [
    "We'll use [LangSmith](https://docs.smith.langchain.com/) for [tracing](https://docs.smith.langchain.com/concepts/tracing).\n",
    "\n",
    "We'll log to a project, `langchain-academy`. "
   ]
  },
  {
   "cell_type": "code",
   "execution_count": 2,
   "id": "dd020c79",
   "metadata": {},
   "outputs": [
    {
     "data": {
      "text/plain": [
       "''"
      ]
     },
     "execution_count": 2,
     "metadata": {},
     "output_type": "execute_result"
    }
   ],
   "source": [
    "_#set_env(\"LANGSMITH_API_KEY\")\n",
    "#os.environ[\"LANGSMITH_TRACING\"] = \"true\"\n",
    "#os.environ[\"LANGSMITH_PROJECT\"] = \"langchain-academy\""
   ]
  },
  {
   "cell_type": "markdown",
   "id": "72f3fc90-58b6-4f7f-897e-dddf6ae532c7",
   "metadata": {},
   "source": [
    "## Messages as state\n",
    "\n",
    "First, let's define some messages."
   ]
  },
  {
   "cell_type": "code",
   "execution_count": 3,
   "id": "cf11a463-e27a-4a05-b41d-64882e38edca",
   "metadata": {},
   "outputs": [
    {
     "name": "stdout",
     "output_type": "stream",
     "text": [
      "==================================\u001b[1m Ai Message \u001b[0m==================================\n",
      "Name: Bot\n",
      "\n",
      "So you said you were researching ocean mammals?\n",
      "================================\u001b[1m Human Message \u001b[0m=================================\n",
      "Name: Lance\n",
      "\n",
      "Yes, I know about whales. But what others should I learn about?\n"
     ]
    }
   ],
   "source": [
    "from pprint import pprint\n",
    "from langchain_core.messages import AIMessage, HumanMessage\n",
    "messages = [AIMessage(f\"So you said you were researching ocean mammals?\", name=\"Bot\")]\n",
    "messages.append(HumanMessage(f\"Yes, I know about whales. But what others should I learn about?\", name=\"Lance\"))\n",
    "\n",
    "for m in messages:\n",
    "    m.pretty_print()"
   ]
  },
  {
   "cell_type": "markdown",
   "id": "b814adcb-6bf9-4b75-be11-e59f933fbd0c",
   "metadata": {},
   "source": [
    "Recall we can pass them to a chat model."
   ]
  },
  {
   "cell_type": "code",
   "execution_count": 5,
   "id": "4712e288-e622-48a2-ad3f-a52f65f3ab08",
   "metadata": {},
   "outputs": [
    {
     "data": {
      "text/plain": [
       "AIMessage(content=\"Whales are indeed fascinating creatures. Besides whales, there are many other interesting ocean mammals to learn about. Here are a few:\\n\\n1. **Dolphins**: These intelligent and social marine mammals are closely related to whales. There are 40 species of dolphins, ranging from the small Maui's dolphin to the large orca (also known as the killer whale).\\n2. **Seals and Sea Lions**: These fin-footed, semi-aquatic marine mammals are found in oceans around the world. There are 32 species of seals and sea lions, which are known for their streamlined bodies and flippers.\\n3. **Walruses**: The largest of the pinnipeds (fin-footed marine mammals), walruses are found in the Arctic and sub-Arctic regions. They're known for their distinctive tusks and blubbery bodies.\\n4. **Manatees**: Also known as sea cows, manatees are slow-moving, herbivorous marine mammals found in warm waters of the Caribbean, the Gulf of Mexico, and the southeastern United States.\\n5. **Otters**: While not exclusively marine mammals, otters are semi-aquatic and spend a significant amount of time in the ocean. There are 13 species of otters, ranging from the sea otter to the Eurasian otter.\\n6. **Polar bears**: Although they're not exclusively marine mammals, polar bears are well adapted to life in the ocean and are excellent swimmers. They're found in the Arctic Circle and are known for their white fur and hunting prowess.\\n\\nThese are just a few examples of the many fascinating ocean mammals out there. Each group has its unique characteristics, habits, and habitats, making them worth learning about.\\n\\nWhich one of these ocean mammals interests you the most?\", additional_kwargs={}, response_metadata={'token_usage': {'completion_tokens': 360, 'prompt_tokens': 39, 'total_tokens': 399, 'completion_time': 0.871345781, 'prompt_time': 0.000883716, 'queue_time': 0.047836734, 'total_time': 0.872229497}, 'model_name': 'meta-llama/llama-4-scout-17b-16e-instruct', 'system_fingerprint': 'fp_37da608fc1', 'service_tier': 'on_demand', 'finish_reason': 'stop', 'logprobs': None}, id='run--41478bc3-1d64-4bea-bc95-158160095c8c-0', usage_metadata={'input_tokens': 39, 'output_tokens': 360, 'total_tokens': 399})"
      ]
     },
     "execution_count": 5,
     "metadata": {},
     "output_type": "execute_result"
    }
   ],
   "source": [
    "from langchain_groq import ChatGroq\n",
    "llm = ChatGroq(model=\"meta-llama/llama-4-scout-17b-16e-instruct\")\n",
    "llm.invoke(messages)"
   ]
  },
  {
   "cell_type": "markdown",
   "id": "fbd1dab8-0af8-4621-8264-ce65065f76ec",
   "metadata": {},
   "source": [
    "We can run our chat model in a simple graph with `MessagesState`."
   ]
  },
  {
   "cell_type": "code",
   "execution_count": 6,
   "id": "bbd8c39c-633b-4176-9cc6-8318e42bb5dd",
   "metadata": {},
   "outputs": [
    {
     "data": {
      "image/png": "[encoded data removed]",
      "text/plain": [
       "<IPython.core.display.Image object>"
      ]
     },
     "metadata": {},
     "output_type": "display_data"
    }
   ],
   "source": [
    "from IPython.display import Image, display\n",
    "from langgraph.graph import MessagesState\n",
    "from langgraph.graph import StateGraph, START, END\n",
    "\n",
    "# Node\n",
    "def chat_model_node(state: MessagesState):\n",
    "    return {\"messages\": llm.invoke(state[\"messages\"])}\n",
    "\n",
    "# Build graph\n",
    "builder = StateGraph(MessagesState)\n",
    "builder.add_node(\"chat_model\", chat_model_node)\n",
    "builder.add_edge(START, \"chat_model\")\n",
    "builder.add_edge(\"chat_model\", END)\n",
    "graph = builder.compile()\n",
    "\n",
    "# View\n",
    "display(Image(graph.get_graph().draw_mermaid_png()))"
   ]
  },
  {
   "cell_type": "code",
   "execution_count": 7,
   "id": "3a5a3e4a-ccfd-4d14-81f1-f0de6e11a1e4",
   "metadata": {},
   "outputs": [
    {
     "name": "stdout",
     "output_type": "stream",
     "text": [
      "==================================\u001b[1m Ai Message \u001b[0m==================================\n",
      "Name: Bot\n",
      "\n",
      "So you said you were researching ocean mammals?\n",
      "================================\u001b[1m Human Message \u001b[0m=================================\n",
      "Name: Lance\n",
      "\n",
      "Yes, I know about whales. But what others should I learn about?\n",
      "==================================\u001b[1m Ai Message \u001b[0m==================================\n",
      "\n",
      "Whales are indeed fascinating creatures. Besides whales, there are many other interesting ocean mammals to learn about. Here are a few:\n",
      "\n",
      "1. **Dolphins**: These intelligent and social marine mammals are closely related to whales. There are 40 species of dolphins, ranging from the bottlenose dolphin to the orca (also known as the killer whale, which is actually a dolphin, not a whale!).\n",
      "2. **Seals** (also known as **true seals** or **earless seals**): These fin-footed, semi-aquatic marine mammals have a streamlined body and flippers. There are 32 species of seals, including the harbor seal, elephant seal, and monk seal.\n",
      "3. **Sea lions**: Similar to seals, but with external ear flaps and the ability to rotate their hind flippers forward. There are six species of sea lions, including the California sea lion and the Steller sea lion.\n",
      "4. **Walruses**: Large, carnivorous marine mammals with distinctive tusks and a bulbous body. There are two species of walruses: the Pacific walrus and the Atlantic walrus.\n",
      "5. **Manatees** (also known as **sea cows**): Slow-moving, herbivorous marine mammals found in warm, shallow waters. There are three species of manatees: the West Indian manatee, the Amazonian manatee, and the West African manatee.\n",
      "6. **Dugongs**: Large, herbivorous marine mammals related to manatees, found in the warm waters of the Pacific and Indian Oceans.\n",
      "\n",
      "These ocean mammals are all unique and fascinating in their own ways, and learning about them can give you a deeper appreciation for the diversity of life in our oceans.\n",
      "\n",
      "Which one of these would you like to learn more about?\n"
     ]
    }
   ],
   "source": [
    "output = graph.invoke({'messages': messages})\n",
    "for m in output['messages']:\n",
    "    m.pretty_print()"
   ]
  },
  {
   "cell_type": "markdown",
   "id": "34c33e63-1ef4-412d-bb10-6a1b9e5b35a7",
   "metadata": {},
   "source": [
    "## Reducer\n",
    "\n",
    "A practical challenge when working with messages is managing long-running conversations. \n",
    "\n",
    "Long-running conversations result in high token usage and latency if we are not careful, because we pass a growing list of messages to the model.\n",
    "\n",
    "We have a few ways to address this.\n",
    "\n",
    "First, recall the trick we saw using `RemoveMessage` and the `add_messages` reducer."
   ]
  },
  {
   "cell_type": "code",
   "execution_count": 8,
   "id": "222c6bc5-bb0e-4a43-80f5-c8ec38d99f3a",
   "metadata": {},
   "outputs": [
    {
     "data": {
      "image/png": "[encoded data removed]",
      "text/plain": [
       "<IPython.core.display.Image object>"
      ]
     },
     "metadata": {},
     "output_type": "display_data"
    }
   ],
   "source": [
    "from langchain_core.messages import RemoveMessage\n",
    "\n",
    "# Nodes\n",
    "def filter_messages(state: MessagesState):\n",
    "    # Delete all but the 2 most recent messages\n",
    "    delete_messages = [RemoveMessage(id=m.id) for m in state[\"messages\"][:-2]]\n",
    "    return {\"messages\": delete_messages}\n",
    "\n",
    "def chat_model_node(state: MessagesState):    \n",
    "    return {\"messages\": [llm.invoke(state[\"messages\"])]}\n",
    "\n",
    "# Build graph\n",
    "builder = StateGraph(MessagesState)\n",
    "builder.add_node(\"filter\", filter_messages)\n",
    "builder.add_node(\"chat_model\", chat_model_node)\n",
    "builder.add_edge(START, \"filter\")\n",
    "builder.add_edge(\"filter\", \"chat_model\")\n",
    "builder.add_edge(\"chat_model\", END)\n",
    "graph = builder.compile()\n",
    "\n",
    "# View\n",
    "display(Image(graph.get_graph().draw_mermaid_png()))"
   ]
  },
  {
   "cell_type": "code",
   "execution_count": 9,
   "id": "95a7c2cc-54ce-43e7-9a90-abf37827d709",
   "metadata": {},
   "outputs": [
    {
     "name": "stdout",
     "output_type": "stream",
     "text": [
      "==================================\u001b[1m Ai Message \u001b[0m==================================\n",
      "Name: Bot\n",
      "\n",
      "So you said you were researching ocean mammals?\n",
      "================================\u001b[1m Human Message \u001b[0m=================================\n",
      "Name: Lance\n",
      "\n",
      "Yes, I know about whales. But what others should I learn about?\n",
      "==================================\u001b[1m Ai Message \u001b[0m==================================\n",
      "\n",
      "Whales are indeed fascinating creatures. Besides whales, there are many other interesting ocean mammals to learn about. Here are some examples:\n",
      "\n",
      "1. **Dolphins**: Like whales, dolphins are cetaceans, but they're smaller and more agile. There are 40 species of dolphins, ranging from the familiar bottlenose dolphin to the orca (also known as the killer whale, which is actually a dolphin, not a whale!).\n",
      "2. **Seals and Sea Lions**: These fin-footed, semi-aquatic mammals are found in oceans around the world. They're known for their streamlined bodies, flippers, and ability to haul out on land. There are 32 species of seals and sea lions.\n",
      "3. **Walruses**: These large, tusked mammals are found in the Arctic and sub-Arctic regions. They're known for their distinctive tusks, which are actually elongated canine teeth.\n",
      "4. **Manatees**: Also known as sea cows, manatees are slow-moving, herbivorous mammals found in shallow waters in the Caribbean and Gulf of Mexico.\n",
      "5. **Sea Otters**: These small, furry mammals are found in the coastal waters of the Pacific Ocean. They're known for their incredibly thick fur, which keeps them warm in cold water.\n",
      "6. **Pinnipeds**: This group includes seals, sea lions, and walruses. They're all semi-aquatic mammals that use their flippers to propel themselves through the water.\n",
      "\n",
      "These are just a few examples of the many fascinating ocean mammals out there. Each group has its own unique characteristics, adaptations, and behaviors, so there's plenty to learn and discover!\n",
      "\n",
      "Which one of these groups interests you the most?\n"
     ]
    }
   ],
   "source": [
    "# Message list with a preamble\n",
    "messages = [AIMessage(\"Hi.\", name=\"Bot\", id=\"1\")]\n",
    "messages.append(HumanMessage(\"Hi.\", name=\"Lance\", id=\"2\"))\n",
    "messages.append(AIMessage(\"So you said you were researching ocean mammals?\", name=\"Bot\", id=\"3\"))\n",
    "messages.append(HumanMessage(\"Yes, I know about whales. But what others should I learn about?\", name=\"Lance\", id=\"4\"))\n",
    "\n",
    "# Invoke\n",
    "output = graph.invoke({'messages': messages})\n",
    "for m in output['messages']:\n",
    "    m.pretty_print()"
   ]
  },
  {
   "cell_type": "markdown",
   "id": "f506457d-014b-4fee-a684-e5edfb4b8f0d",
   "metadata": {},
   "source": [
    "## Filtering messages\n",
    "\n",
    "If you don't need or want to modify the graph state, you can just filter the messages you pass to the chat model.\n",
    "\n",
    "For example, just pass in a filtered list: `llm.invoke(messages[-1:])` to the model."
   ]
  },
  {
   "cell_type": "code",
   "execution_count": 10,
   "id": "22d0b904-7cd6-486b-8948-105bee3d4683",
   "metadata": {},
   "outputs": [
    {
     "data": {
      "image/png": "[encoded data removed]",
      "text/plain": [
       "<IPython.core.display.Image object>"
      ]
     },
     "metadata": {},
     "output_type": "display_data"
    }
   ],
   "source": [
    "# Node\n",
    "def chat_model_node(state: MessagesState):\n",
    "    return {\"messages\": [llm.invoke(state[\"messages\"][-1:])]}\n",
    "\n",
    "# Build graph\n",
    "builder = StateGraph(MessagesState)\n",
    "builder.add_node(\"chat_model\", chat_model_node)\n",
    "builder.add_edge(START, \"chat_model\")\n",
    "builder.add_edge(\"chat_model\", END)\n",
    "graph = builder.compile()\n",
    "\n",
    "# View\n",
    "display(Image(graph.get_graph().draw_mermaid_png()))"
   ]
  },
  {
   "cell_type": "markdown",
   "id": "6f58c6fc-532f-418d-b70a-cfcb3307daf5",
   "metadata": {},
   "source": [
    "Let's take our existing list of messages, append the above LLM response, and append a follow-up question."
   ]
  },
  {
   "cell_type": "code",
   "execution_count": 11,
   "id": "16956015-1dbe-4108-89b5-4209b68b51ca",
   "metadata": {},
   "outputs": [],
   "source": [
    "messages.append(output['messages'][-1])\n",
    "messages.append(HumanMessage(f\"Tell me more about Narwhals!\", name=\"Lance\"))"
   ]
  },
  {
   "cell_type": "code",
   "execution_count": 12,
   "id": "85563415-c085-46a8-a4ac-155df798c54e",
   "metadata": {},
   "outputs": [
    {
     "name": "stdout",
     "output_type": "stream",
     "text": [
      "==================================\u001b[1m Ai Message \u001b[0m==================================\n",
      "Name: Bot\n",
      "\n",
      "Hi.\n",
      "================================\u001b[1m Human Message \u001b[0m=================================\n",
      "Name: Lance\n",
      "\n",
      "Hi.\n",
      "==================================\u001b[1m Ai Message \u001b[0m==================================\n",
      "Name: Bot\n",
      "\n",
      "So you said you were researching ocean mammals?\n",
      "================================\u001b[1m Human Message \u001b[0m=================================\n",
      "Name: Lance\n",
      "\n",
      "Yes, I know about whales. But what others should I learn about?\n",
      "==================================\u001b[1m Ai Message \u001b[0m==================================\n",
      "\n",
      "Whales are indeed fascinating creatures. Besides whales, there are many other interesting ocean mammals to learn about. Here are some examples:\n",
      "\n",
      "1. **Dolphins**: Like whales, dolphins are cetaceans, but they're smaller and more agile. There are 40 species of dolphins, ranging from the familiar bottlenose dolphin to the orca (also known as the killer whale, which is actually a dolphin, not a whale!).\n",
      "2. **Seals and Sea Lions**: These fin-footed, semi-aquatic mammals are found in oceans around the world. They're known for their streamlined bodies, flippers, and ability to haul out on land. There are 32 species of seals and sea lions.\n",
      "3. **Walruses**: These large, tusked mammals are found in the Arctic and sub-Arctic regions. They're known for their distinctive tusks, which are actually elongated canine teeth.\n",
      "4. **Manatees**: Also known as sea cows, manatees are slow-moving, herbivorous mammals found in shallow waters in the Caribbean and Gulf of Mexico.\n",
      "5. **Sea Otters**: These small, furry mammals are found in the coastal waters of the Pacific Ocean. They're known for their incredibly thick fur, which keeps them warm in cold water.\n",
      "6. **Pinnipeds**: This group includes seals, sea lions, and walruses. They're all semi-aquatic mammals that use their flippers to propel themselves through the water.\n",
      "\n",
      "These are just a few examples of the many fascinating ocean mammals out there. Each group has its own unique characteristics, adaptations, and behaviors, so there's plenty to learn and discover!\n",
      "\n",
      "Which one of these groups interests you the most?\n",
      "================================\u001b[1m Human Message \u001b[0m=================================\n",
      "Name: Lance\n",
      "\n",
      "Tell me more about Narwhals!\n"
     ]
    }
   ],
   "source": [
    "for m in messages:\n",
    "    m.pretty_print()"
   ]
  },
  {
   "cell_type": "code",
   "execution_count": 13,
   "id": "23349705-a059-47b5-9760-d8f64e687393",
   "metadata": {},
   "outputs": [
    {
     "name": "stdout",
     "output_type": "stream",
     "text": [
      "==================================\u001b[1m Ai Message \u001b[0m==================================\n",
      "Name: Bot\n",
      "\n",
      "Hi.\n",
      "================================\u001b[1m Human Message \u001b[0m=================================\n",
      "Name: Lance\n",
      "\n",
      "Hi.\n",
      "==================================\u001b[1m Ai Message \u001b[0m==================================\n",
      "Name: Bot\n",
      "\n",
      "So you said you were researching ocean mammals?\n",
      "================================\u001b[1m Human Message \u001b[0m=================================\n",
      "Name: Lance\n",
      "\n",
      "Yes, I know about whales. But what others should I learn about?\n",
      "==================================\u001b[1m Ai Message \u001b[0m==================================\n",
      "\n",
      "Whales are indeed fascinating creatures. Besides whales, there are many other interesting ocean mammals to learn about. Here are some examples:\n",
      "\n",
      "1. **Dolphins**: Like whales, dolphins are cetaceans, but they're smaller and more agile. There are 40 species of dolphins, ranging from the familiar bottlenose dolphin to the orca (also known as the killer whale, which is actually a dolphin, not a whale!).\n",
      "2. **Seals and Sea Lions**: These fin-footed, semi-aquatic mammals are found in oceans around the world. They're known for their streamlined bodies, flippers, and ability to haul out on land. There are 32 species of seals and sea lions.\n",
      "3. **Walruses**: These large, tusked mammals are found in the Arctic and sub-Arctic regions. They're known for their distinctive tusks, which are actually elongated canine teeth.\n",
      "4. **Manatees**: Also known as sea cows, manatees are slow-moving, herbivorous mammals found in shallow waters in the Caribbean and Gulf of Mexico.\n",
      "5. **Sea Otters**: These small, furry mammals are found in the coastal waters of the Pacific Ocean. They're known for their incredibly thick fur, which keeps them warm in cold water.\n",
      "6. **Pinnipeds**: This group includes seals, sea lions, and walruses. They're all semi-aquatic mammals that use their flippers to propel themselves through the water.\n",
      "\n",
      "These are just a few examples of the many fascinating ocean mammals out there. Each group has its own unique characteristics, adaptations, and behaviors, so there's plenty to learn and discover!\n",
      "\n",
      "Which one of these groups interests you the most?\n",
      "================================\u001b[1m Human Message \u001b[0m=================================\n",
      "Name: Lance\n",
      "\n",
      "Tell me more about Narwhals!\n",
      "==================================\u001b[1m Ai Message \u001b[0m==================================\n",
      "\n",
      "The narwhal! Also known as the \"unicorn of the sea,\" this Arctic whale is one of the most fascinating and mysterious creatures in the ocean. Here are some interesting facts about narwhals:\n",
      "\n",
      "**Physical Characteristics:**\n",
      "\n",
      "* Narwhals (Monodon monoceros) are a type of toothed whale, closely related to belugas and orcas.\n",
      "* They have a bluish-gray back and a creamy-white belly.\n",
      "* The most distinctive feature of the narwhal is its long, spiraling tusk, which can grow up to 10 feet (3 meters) long. The tusk is actually a modified tooth that protrudes from the upper jaw of male narwhals.\n",
      "* Adult narwhals can grow up to 16 feet (4.9 meters) long and weigh up to 3,500 pounds (1,590 kilograms).\n",
      "\n",
      "**Habitat and Distribution:**\n",
      "\n",
      "* Narwhals are found in the Arctic waters of Canada, Greenland, and Russia, typically in areas with dense sea ice.\n",
      "* They prefer to live in areas with heavy sea ice coverage, where they can hunt for food and avoid predators.\n",
      "\n",
      "**Behavior and Diet:**\n",
      "\n",
      "* Narwhals are social animals and are often found in groups of up to 100 individuals.\n",
      "* They are skilled divers and can dive to depths of up to 1,500 meters (4,921 feet) in search of food.\n",
      "* Their diet consists mainly of Arctic cod, shrimp, and other marine animals.\n",
      "\n",
      "**The Mysterious Tusk:**\n",
      "\n",
      "* The purpose of the narwhal's tusk is still debated among scientists. Some theories include:\n",
      "\t+ It may be used for sensing the environment, such as detecting changes in temperature or salinity.\n",
      "\t+ It may be used for attracting mates or establishing dominance.\n",
      "\t+ It may be used for breaking through ice or defending against predators.\n",
      "\n",
      "**Conservation Status:**\n",
      "\n",
      "* Narwhals are listed as \"vulnerable\" on the IUCN Red List, due to climate change, hunting, and habitat degradation.\n",
      "* The main threats to narwhals are:\n",
      "\t+ Climate change, which is melting their sea ice habitat and altering their food supply.\n",
      "\t+ Hunting, particularly by Inuit communities, which has reduced narwhal populations.\n",
      "\n",
      "**Interesting Facts:**\n",
      "\n",
      "* Narwhals are known for their ability to make a variety of sounds, including clicks, whistles, and even what can be described as a loud, screaming noise.\n",
      "* They are excellent swimmers and can reach speeds of up to 35 miles per hour (56 kilometers per hour).\n",
      "* Narwhals have been observed playing and interacting with each other, suggesting a high level of intelligence and social complexity.\n",
      "\n",
      "Overall, narwhals are fascinating creatures that continue to capture the imagination of scientists and the general public alike. Their unique appearance and behaviors make them one of the most interesting and enigmatic animals in the ocean!\n"
     ]
    }
   ],
   "source": [
    "# Invoke, using message filtering\n",
    "output = graph.invoke({'messages': messages})\n",
    "for m in output['messages']:\n",
    "    m.pretty_print()"
   ]
  },
  {
   "cell_type": "markdown",
   "id": "42e1d8d2-e297-4d78-b54c-d12b3c866745",
   "metadata": {},
   "source": [
    "The state has all of the mesages.\n",
    "\n",
    "But, let's look at the LangSmith trace to see that the model invocation only uses the last message:\n",
    "\n",
    "https://smith.langchain.com/public/75aca3ce-ef19-4b92-94be-0178c7a660d9/r"
   ]
  },
  {
   "cell_type": "markdown",
   "id": "fc40d930-3c1f-47fe-8d2a-ce174873353c",
   "metadata": {},
   "source": [
    "## Trim messages\n",
    "\n",
    "Another approach is to [trim messages](https://python.langchain.com/v0.2/docs/how_to/trim_messages/#getting-the-last-max_tokens-tokens), based upon a set number of tokens. \n",
    "\n",
    "This restricts the message history to a specified number of tokens.\n",
    "\n",
    "While filtering only returns a post-hoc subset of the messages between agents, trimming restricts the number of tokens that a chat model can use to respond.\n",
    "\n",
    "See the `trim_messages` below."
   ]
  },
  {
   "cell_type": "code",
   "execution_count": 17,
   "id": "2ff99b81-cf03-4cc2-b44f-44829a73e1fd",
   "metadata": {},
   "outputs": [
    {
     "data": {
      "image/png": "[encoded data removed]",
      "text/plain": [
       "<IPython.core.display.Image object>"
      ]
     },
     "metadata": {},
     "output_type": "display_data"
    }
   ],
   "source": [
    "from langchain_core.messages import trim_messages\n",
    "\n",
    "# Node\n",
    "def chat_model_node(state: MessagesState):\n",
    "    messages = trim_messages(\n",
    "            state[\"messages\"],\n",
    "            max_tokens=100,\n",
    "            strategy=\"last\",\n",
    "            token_counter=ChatGroq(model=\"meta-llama/llama-4-scout-17b-16e-instruct\"),\n",
    "            allow_partial=False,\n",
    "        )\n",
    "    return {\"messages\": [llm.invoke(messages)]}\n",
    "\n",
    "# Build graph\n",
    "builder = StateGraph(MessagesState)\n",
    "builder.add_node(\"chat_model\", chat_model_node)\n",
    "builder.add_edge(START, \"chat_model\")\n",
    "builder.add_edge(\"chat_model\", END)\n",
    "graph = builder.compile()\n",
    "\n",
    "# View\n",
    "display(Image(graph.get_graph().draw_mermaid_png()))"
   ]
  },
  {
   "cell_type": "code",
   "execution_count": 18,
   "id": "24df63ac-da29-4874-b3df-7e390e97cc8a",
   "metadata": {},
   "outputs": [],
   "source": [
    "messages.append(output['messages'][-1])\n",
    "messages.append(HumanMessage(f\"Tell me where Orcas live!\", name=\"Lance\"))"
   ]
  },
  {
   "cell_type": "code",
   "execution_count": 19,
   "id": "6d9d8971-c75c-43ca-a209-eb1d07b2ead0",
   "metadata": {},
   "outputs": [
    {
     "name": "stderr",
     "output_type": "stream",
     "text": [
      "/Users/naveed/projects/learning/langgraph/lc-academy-env/lib/python3.13/site-packages/tqdm/auto.py:21: TqdmWarning: IProgress not found. Please update jupyter and ipywidgets. See https://ipywidgets.readthedocs.io/en/stable/user_install.html\n",
      "  from .autonotebook import tqdm as notebook_tqdm\n",
      "None of PyTorch, TensorFlow >= 2.0, or Flax have been found. Models won't be available and only tokenizers, configuration and file/data utilities can be used.\n"
     ]
    },
    {
     "data": {
      "text/plain": [
       "[HumanMessage(content='Tell me where Orcas live!', additional_kwargs={}, response_metadata={}, name='Lance')]"
      ]
     },
     "execution_count": 19,
     "metadata": {},
     "output_type": "execute_result"
    }
   ],
   "source": [
    "# Example of trimming messages\n",
    "trim_messages(\n",
    "            messages,\n",
    "            max_tokens=100,\n",
    "            strategy=\"last\",\n",
    "            token_counter=ChatGroq(model=\"meta-llama/llama-4-scout-17b-16e-instruct\"),\n",
    "            allow_partial=False\n",
    "        )"
   ]
  },
  {
   "cell_type": "code",
   "execution_count": 20,
   "id": "ed70a269-a869-4fa0-a1df-29736a432c51",
   "metadata": {},
   "outputs": [],
   "source": [
    "# Invoke, using message trimming in the chat_model_node \n",
    "messages_out_trim = graph.invoke({'messages': messages})"
   ]
  },
  {
   "cell_type": "markdown",
   "id": "38b3db67-380e-46b5-9a6a-20100ba52008",
   "metadata": {},
   "source": [
    "Let's look at the LangSmith trace to see the model invocation:\n",
    "\n",
    "https://smith.langchain.com/public/b153f7e9-f1a5-4d60-8074-f0d7ab5b42ef/r"
   ]
  }
 ],
 "metadata": {
  "kernelspec": {
   "display_name": "Python 3 (ipykernel)",
   "language": "python",
   "name": "python3"
  },
  "language_info": {
   "codemirror_mode": {
    "name": "ipython",
    "version": 3
   },
   "file_extension": ".py",
   "mimetype": "text/x-python",
   "name": "python",
   "nbconvert_exporter": "python",
   "pygments_lexer": "ipython3",
   "version": "3.13.3"
  }
 },
 "nbformat": 4,
 "nbformat_minor": 5
}
