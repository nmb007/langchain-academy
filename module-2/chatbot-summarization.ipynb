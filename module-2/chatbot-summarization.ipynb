{
 "cells": [
  {
   "cell_type": "markdown",
   "id": "83fcadf3",
   "metadata": {},
   "source": [
    "[![Open in Colab](https://colab.research.google.com/assets/colab-badge.svg)](https://colab.research.google.com/github/langchain-ai/langchain-academy/blob/main/module-2/chatbot-summarization.ipynb) [![Open in LangChain Academy](https://cdn.prod.website-files.com/65b8cd72835ceeacd4449a53/66e9eba12c7b7688aa3dbb5e_LCA-badge-green.svg)](https://academy.langchain.com/courses/take/intro-to-langgraph/lessons/58239436-lesson-5-chatbot-w-summarizing-messages-and-memory)"
   ]
  },
  {
   "cell_type": "markdown",
   "id": "b651ead9-5504-45ee-938d-f91ac78dddd1",
   "metadata": {},
   "source": [
    "# Chatbot with message summarization\n",
    "\n",
    "## Review\n",
    "\n",
    "We've covered how to customize graph state schema and reducer. \n",
    " \n",
    "We've also shown a number of ways to trim or filter messages in graph state. \n",
    "\n",
    "## Goals\n",
    "\n",
    "Now, let's take it one step further! \n",
    "\n",
    "Rather than just trimming or filtering messages, we'll show how to use LLMs to produce a running summary of the conversation.\n",
    " \n",
    "This allows us to retain a compressed representation of the full conversation, rather than just removing it with trimming or filtering.\n",
    "\n",
    "We'll incorporate this summarization into a simple Chatbot.  \n",
    "\n",
    "And we'll equip that Chatbot with memory, supporting long-running conversations without incurring high token cost / latency. "
   ]
  },
  {
   "cell_type": "code",
   "execution_count": 1,
   "id": "000a6daa-92ad-4e57-a060-d1c81176eb0d",
   "metadata": {},
   "outputs": [],
   "source": [
    "%%capture --no-stderr\n",
    "%pip install --quiet -U langchain_core langgraph langchain_openai"
   ]
  },
  {
   "cell_type": "code",
   "execution_count": 2,
   "id": "09201a62",
   "metadata": {},
   "outputs": [],
   "source": [
    "import os, getpass\n",
    "from dotenv import load_dotenv\n",
    "\n",
    "# Load environment variables from .env file\n",
    "load_dotenv()\n",
    "\n",
    "def _set_env(var: str):\n",
    "    if not os.environ.get(var):\n",
    "        os.environ[var] = getpass.getpass(f\"{var}: \")\n",
    "\n",
    "#_set_env(\"OPENAI_API_KEY\")"
   ]
  },
  {
   "cell_type": "markdown",
   "id": "dfddfce9-3a9b-4b35-a76d-28265515aabd",
   "metadata": {},
   "source": [
    "We'll use [LangSmith](https://docs.smith.langchain.com/) for [tracing](https://docs.smith.langchain.com/concepts/tracing)."
   ]
  },
  {
   "cell_type": "code",
   "execution_count": 3,
   "id": "464856d4",
   "metadata": {},
   "outputs": [],
   "source": [
    "#_set_env(\"LANGSMITH_API_KEY\")\n",
    "#os.environ[\"LANGSMITH_TRACING\"] = \"true\"\n",
    "#os.environ[\"LANGSMITH_PROJECT\"] = \"langchain-academy\""
   ]
  },
  {
   "cell_type": "code",
   "execution_count": 4,
   "id": "537ade30-6a0e-4b6b-8bcd-ce90790b6392",
   "metadata": {},
   "outputs": [],
   "source": [
    "from langchain_groq import ChatGroq\n",
    "model = ChatGroq(model=\"meta-llama/llama-4-scout-17b-16e-instruct\")"
   ]
  },
  {
   "cell_type": "markdown",
   "id": "db3afac3-8b7a-45db-a3c1-7e4125c1bc8b",
   "metadata": {},
   "source": [
    "We'll use `MessagesState`, as before.\n",
    "\n",
    "In addition to the built-in `messages` key, we'll now include a custom key (`summary`)."
   ]
  },
  {
   "cell_type": "code",
   "execution_count": 5,
   "id": "948e60f0-5c76-4235-b40e-cf523205d40e",
   "metadata": {},
   "outputs": [],
   "source": [
    "from langgraph.graph import MessagesState\n",
    "class State(MessagesState):\n",
    "    summary: str"
   ]
  },
  {
   "cell_type": "markdown",
   "id": "6855ea31-5cc1-4277-a189-0b72459f67ec",
   "metadata": {},
   "source": [
    "We'll define a node to call our LLM that incorporates a summary, if it exists, into the prompt."
   ]
  },
  {
   "cell_type": "code",
   "execution_count": 6,
   "id": "c3f7d19b-afe0-4381-9b1a-0a832b162e7b",
   "metadata": {},
   "outputs": [],
   "source": [
    "from langchain_core.messages import SystemMessage, HumanMessage, RemoveMessage\n",
    "\n",
    "# Define the logic to call the model\n",
    "def call_model(state: State):\n",
    "    \n",
    "    # Get summary if it exists\n",
    "    summary = state.get(\"summary\", \"\")\n",
    "\n",
    "    # If there is summary, then we add it\n",
    "    if summary:\n",
    "        \n",
    "        # Add summary to system message\n",
    "        system_message = f\"Summary of conversation earlier: {summary}\"\n",
    "\n",
    "        # Append summary to any newer messages\n",
    "        messages = [SystemMessage(content=system_message)] + state[\"messages\"]\n",
    "    \n",
    "    else:\n",
    "        messages = state[\"messages\"]\n",
    "    \n",
    "    response = model.invoke(messages)\n",
    "    return {\"messages\": response}"
   ]
  },
  {
   "cell_type": "markdown",
   "id": "6882042c-b42d-4d52-a6a7-6ec8efa72450",
   "metadata": {},
   "source": [
    "We'll define a node to produce a summary.\n",
    "\n",
    "Note, here we'll use `RemoveMessage` to filter our state after we've produced the summary."
   ]
  },
  {
   "cell_type": "code",
   "execution_count": 7,
   "id": "78c7aa59-3760-4e76-93f1-bc713e3ec39e",
   "metadata": {},
   "outputs": [],
   "source": [
    "def summarize_conversation(state: State):\n",
    "    \n",
    "    # First, we get any existing summary\n",
    "    summary = state.get(\"summary\", \"\")\n",
    "\n",
    "    # Create our summarization prompt \n",
    "    if summary:\n",
    "        \n",
    "        # A summary already exists\n",
    "        summary_message = (\n",
    "            f\"This is summary of the conversation to date: {summary}\\n\\n\"\n",
    "            \"Extend the summary by taking into account the new messages above:\"\n",
    "        )\n",
    "        \n",
    "    else:\n",
    "        summary_message = \"Create a summary of the conversation above:\"\n",
    "\n",
    "    # Add prompt to our history\n",
    "    messages = state[\"messages\"] + [HumanMessage(content=summary_message)]\n",
    "    response = model.invoke(messages)\n",
    "    \n",
    "    # Delete all but the 2 most recent messages\n",
    "    delete_messages = [RemoveMessage(id=m.id) for m in state[\"messages\"][:-2]]\n",
    "    return {\"summary\": response.content, \"messages\": delete_messages}"
   ]
  },
  {
   "cell_type": "markdown",
   "id": "f982993e-f4be-4ff7-9a38-886f75398b3d",
   "metadata": {},
   "source": [
    "We'll add a conditional edge to determine whether to produce a summary based on the conversation length."
   ]
  },
  {
   "cell_type": "code",
   "execution_count": 8,
   "id": "b507665d-7f5d-442a-b498-218c94c5dd8b",
   "metadata": {},
   "outputs": [],
   "source": [
    "from langgraph.graph import END\n",
    "from typing_extensions import Literal\n",
    "# Determine whether to end or summarize the conversation\n",
    "def should_continue(state: State) -> Literal [\"summarize_conversation\",END]:\n",
    "    \n",
    "    \"\"\"Return the next node to execute.\"\"\"\n",
    "    \n",
    "    messages = state[\"messages\"]\n",
    "    \n",
    "    # If there are more than six messages, then we summarize the conversation\n",
    "    if len(messages) > 6:\n",
    "        return \"summarize_conversation\"\n",
    "    \n",
    "    # Otherwise we can just end\n",
    "    return END"
   ]
  },
  {
   "cell_type": "markdown",
   "id": "5a838f4c-7067-4f7f-a4c4-6654e11214cd",
   "metadata": {},
   "source": [
    "## Adding memory\n",
    "\n",
    "Recall that [state is transient](https://github.com/langchain-ai/langgraph/discussions/352#discussioncomment-9291220) to a single graph execution.\n",
    "\n",
    "This limits our ability to have multi-turn conversations with interruptions. \n",
    "\n",
    "As introduced at the end of Module 1, we can use [persistence](https://langchain-ai.github.io/langgraph/how-tos/persistence/) to address this! \n",
    " \n",
    "LangGraph can use a checkpointer to automatically save the graph state after each step.\n",
    "\n",
    "This built-in persistence layer gives us memory, allowing LangGraph to pick up from the last state update. \n",
    "\n",
    "As we previously showed, one of the easiest to work with is `MemorySaver`, an in-memory key-value store for Graph state.\n",
    "\n",
    "All we need to do is compile the graph with a checkpointer, and our graph has memory!"
   ]
  },
  {
   "cell_type": "code",
   "execution_count": 9,
   "id": "1d57516d-f9f1-4d3c-a84a-7277b5ce6df6",
   "metadata": {},
   "outputs": [
    {
     "data": {
      "image/png": "[encoded data removed]",
      "text/plain": [
       "<IPython.core.display.Image object>"
      ]
     },
     "metadata": {},
     "output_type": "display_data"
    }
   ],
   "source": [
    "from IPython.display import Image, display\n",
    "from langgraph.checkpoint.memory import MemorySaver\n",
    "from langgraph.graph import StateGraph, START\n",
    "\n",
    "# Define a new graph\n",
    "workflow = StateGraph(State)\n",
    "workflow.add_node(\"conversation\", call_model)\n",
    "workflow.add_node(summarize_conversation)\n",
    "\n",
    "# Set the entrypoint as conversation\n",
    "workflow.add_edge(START, \"conversation\")\n",
    "workflow.add_conditional_edges(\"conversation\", should_continue)\n",
    "workflow.add_edge(\"summarize_conversation\", END)\n",
    "\n",
    "# Compile\n",
    "memory = MemorySaver()\n",
    "graph = workflow.compile(checkpointer=memory)\n",
    "display(Image(graph.get_graph().draw_mermaid_png()))"
   ]
  },
  {
   "attachments": {},
   "cell_type": "markdown",
   "id": "d0bd5d23-ac3b-4496-a049-9a9f97d2feb9",
   "metadata": {},
   "source": [
    "## Threads\n",
    "\n",
    "The checkpointer saves the state at each step as a checkpoint.\n",
    "\n",
    "These saved checkpoints can be grouped into a `thread` of conversation.\n",
    "\n",
    "Think about Slack as an analog: different channels carry different conversations.\n",
    "\n",
    "Threads are like Slack channels, capturing grouped collections of state (e.g., conversation).\n",
    "\n",
    "Below, we use `configurable` to set a thread ID.\n",
    "\n",
    "![state.jpg](https://cdn.prod.website-files.com/65b8cd72835ceeacd4449a53/66dbadf3b379c2ee621adfd1_chatbot-summarization1.png)"
   ]
  },
  {
   "cell_type": "code",
   "execution_count": 10,
   "id": "2566c93b-13e6-4a53-bc0f-b00fff691d30",
   "metadata": {},
   "outputs": [
    {
     "name": "stdout",
     "output_type": "stream",
     "text": [
      "==================================\u001b[1m Ai Message \u001b[0m==================================\n",
      "\n",
      "Hello Lance! Nice to meet you! Is there something I can help you with or would you like to chat?\n",
      "==================================\u001b[1m Ai Message \u001b[0m==================================\n",
      "\n",
      "Your name is Lance! You told me that just a minute ago.\n",
      "==================================\u001b[1m Ai Message \u001b[0m==================================\n",
      "\n",
      "Go Niners! Which player is your favorite on the 49ers, Lance?\n"
     ]
    }
   ],
   "source": [
    "# Create a thread\n",
    "config = {\"configurable\": {\"thread_id\": \"1\"}}\n",
    "\n",
    "# Start conversation\n",
    "input_message = HumanMessage(content=\"hi! I'm Lance\")\n",
    "output = graph.invoke({\"messages\": [input_message]}, config) \n",
    "for m in output['messages'][-1:]:\n",
    "    m.pretty_print()\n",
    "\n",
    "input_message = HumanMessage(content=\"what's my name?\")\n",
    "output = graph.invoke({\"messages\": [input_message]}, config) \n",
    "for m in output['messages'][-1:]:\n",
    "    m.pretty_print()\n",
    "\n",
    "input_message = HumanMessage(content=\"i like the 49ers!\")\n",
    "output = graph.invoke({\"messages\": [input_message]}, config) \n",
    "for m in output['messages'][-1:]:\n",
    "    m.pretty_print()"
   ]
  },
  {
   "cell_type": "markdown",
   "id": "531e5b63-5e8b-486e-baa0-a45521e2fbc2",
   "metadata": {},
   "source": [
    "Now, we don't yet have a summary of the state because we still have < = 6 messages.\n",
    "\n",
    "This was set in `should_continue`. \n",
    "\n",
    "```\n",
    "    # If there are more than six messages, then we summarize the conversation\n",
    "    if len(messages) > 6:\n",
    "        return \"summarize_conversation\"\n",
    "```\n",
    "\n",
    "We can pick up the conversation because we have the thread."
   ]
  },
  {
   "cell_type": "code",
   "execution_count": 11,
   "id": "91b82aaa-17f9-49e2-9528-f4b22e23ebcb",
   "metadata": {},
   "outputs": [
    {
     "data": {
      "text/plain": [
       "''"
      ]
     },
     "execution_count": 11,
     "metadata": {},
     "output_type": "execute_result"
    }
   ],
   "source": [
    "graph.get_state(config).values.get(\"summary\",\"\")"
   ]
  },
  {
   "cell_type": "markdown",
   "id": "068a93e9-f716-4980-8edf-94115017d865",
   "metadata": {},
   "source": [
    "The `config` with thread ID allows us to proceed from the previously logged state!"
   ]
  },
  {
   "cell_type": "code",
   "execution_count": 12,
   "id": "24b34f0f-62ef-4008-8e96-480cbe92ea3e",
   "metadata": {},
   "outputs": [
    {
     "name": "stdout",
     "output_type": "stream",
     "text": [
      "==================================\u001b[1m Ai Message \u001b[0m==================================\n",
      "\n",
      "Nick Bosa is an absolute beast on the field! And yeah, he is one of the highest-paid defensive players in the NFL. He signed a massive 5-year, $135 million contract extension with the 49ers in 2023, which makes him one of the highest-paid defensive players in the league. What do you think about his performance on the field? Do you think he's worth the big bucks?\n"
     ]
    }
   ],
   "source": [
    "input_message = HumanMessage(content=\"i like Nick Bosa, isn't he the highest paid defensive player?\")\n",
    "output = graph.invoke({\"messages\": [input_message]}, config) \n",
    "for m in output['messages'][-1:]:\n",
    "    m.pretty_print()"
   ]
  },
  {
   "cell_type": "code",
   "execution_count": 21,
   "id": "22f1b35f-e4bb-47f6-87b1-d84d8aed9aa9",
   "metadata": {},
   "outputs": [
    {
     "data": {
      "text/plain": [
       "\"Here is a summary of our conversation:\\n\\n* You introduced yourself as Lance\\n* You mentioned that you like the San Francisco 49ers\\n* You expressed admiration for Nick Bosa and mentioned that he's one of the highest-paid defensive players in the NFL\\n* I confirmed that Nick Bosa did indeed sign a large contract extension with the 49ers in 2023\\n\\nLet me know if you'd like to continue chatting about the 49ers or anything else!\""
      ]
     },
     "execution_count": 21,
     "metadata": {},
     "output_type": "execute_result"
    }
   ],
   "source": [
    "graph.get_state(config).values.get(\"summary\",\"\")"
   ]
  },
  {
   "cell_type": "code",
   "execution_count": 22,
   "id": "576619d1-34fb-4fdb-91c5-7bbb16a32dd3",
   "metadata": {},
   "outputs": [
    {
     "data": {
      "text/plain": [
       "[HumanMessage(content=\"i like Nick Bosa, isn't he the highest paid defensive player?\", additional_kwargs={}, response_metadata={}, id='0888613f-4b65-4aef-8df3-6e96b0f68862'),\n",
       " AIMessage(content=\"Nick Bosa is an absolute beast on the field! And yeah, he is one of the highest-paid defensive players in the NFL. He signed a massive 5-year, $135 million contract extension with the 49ers in 2023, which makes him one of the highest-paid defensive players in the league. What do you think about his performance on the field? Do you think he's worth the big bucks?\", additional_kwargs={}, response_metadata={'token_usage': {'completion_tokens': 87, 'prompt_tokens': 122, 'total_tokens': 209, 'completion_time': 0.219222391, 'prompt_time': 0.004096595, 'queue_time': 0.057463864, 'total_time': 0.223318986}, 'model_name': 'meta-llama/llama-4-scout-17b-16e-instruct', 'system_fingerprint': 'fp_37da608fc1', 'service_tier': 'on_demand', 'finish_reason': 'stop', 'logprobs': None}, id='run--30d175e1-d0b5-4f22-83ed-d5337dc9981c-0', usage_metadata={'input_tokens': 122, 'output_tokens': 87, 'total_tokens': 209})]"
      ]
     },
     "execution_count": 22,
     "metadata": {},
     "output_type": "execute_result"
    }
   ],
   "source": [
    "graph.get_state(config).values.get(\"messages\",\"\")"
   ]
  },
  {
   "cell_type": "code",
   "execution_count": 19,
   "id": "c0dbee6b-e8a1-4624-976f-bc150008ef10",
   "metadata": {},
   "outputs": [
    {
     "data": {
      "text/plain": [
       "StateSnapshot(values={'messages': [HumanMessage(content=\"i like Nick Bosa, isn't he the highest paid defensive player?\", additional_kwargs={}, response_metadata={}, id='0888613f-4b65-4aef-8df3-6e96b0f68862'), AIMessage(content=\"Nick Bosa is an absolute beast on the field! And yeah, he is one of the highest-paid defensive players in the NFL. He signed a massive 5-year, $135 million contract extension with the 49ers in 2023, which makes him one of the highest-paid defensive players in the league. What do you think about his performance on the field? Do you think he's worth the big bucks?\", additional_kwargs={}, response_metadata={'token_usage': {'completion_tokens': 87, 'prompt_tokens': 122, 'total_tokens': 209, 'completion_time': 0.219222391, 'prompt_time': 0.004096595, 'queue_time': 0.057463864, 'total_time': 0.223318986}, 'model_name': 'meta-llama/llama-4-scout-17b-16e-instruct', 'system_fingerprint': 'fp_37da608fc1', 'service_tier': 'on_demand', 'finish_reason': 'stop', 'logprobs': None}, id='run--30d175e1-d0b5-4f22-83ed-d5337dc9981c-0', usage_metadata={'input_tokens': 122, 'output_tokens': 87, 'total_tokens': 209})], 'summary': \"Here is a summary of our conversation:\\n\\n* You introduced yourself as Lance\\n* You mentioned that you like the San Francisco 49ers\\n* You expressed admiration for Nick Bosa and mentioned that he's one of the highest-paid defensive players in the NFL\\n* I confirmed that Nick Bosa did indeed sign a large contract extension with the 49ers in 2023\\n\\nLet me know if you'd like to continue chatting about the 49ers or anything else!\"}, next=(), config={'configurable': {'thread_id': '1', 'checkpoint_ns': '', 'checkpoint_id': '1f093073-3213-6738-800b-b78a3413ee03'}}, metadata={'source': 'loop', 'step': 11, 'parents': {}}, created_at='2025-09-16T14:12:38.035421+00:00', parent_config={'configurable': {'thread_id': '1', 'checkpoint_ns': '', 'checkpoint_id': '1f093073-2d33-68c6-800a-bbe838823a6a'}}, tasks=(), interrupts=())"
      ]
     },
     "execution_count": 19,
     "metadata": {},
     "output_type": "execute_result"
    }
   ],
   "source": [
    "# get the latest state snapshot\n",
    "graph.get_state(config)"
   ]
  },
  {
   "cell_type": "code",
   "execution_count": 20,
   "id": "c59f63f8-bcc3-439c-98d1-7405c70cddb7",
   "metadata": {},
   "outputs": [
    {
     "data": {
      "text/plain": [
       "[StateSnapshot(values={'messages': [HumanMessage(content=\"i like Nick Bosa, isn't he the highest paid defensive player?\", additional_kwargs={}, response_metadata={}, id='0888613f-4b65-4aef-8df3-6e96b0f68862'), AIMessage(content=\"Nick Bosa is an absolute beast on the field! And yeah, he is one of the highest-paid defensive players in the NFL. He signed a massive 5-year, $135 million contract extension with the 49ers in 2023, which makes him one of the highest-paid defensive players in the league. What do you think about his performance on the field? Do you think he's worth the big bucks?\", additional_kwargs={}, response_metadata={'token_usage': {'completion_tokens': 87, 'prompt_tokens': 122, 'total_tokens': 209, 'completion_time': 0.219222391, 'prompt_time': 0.004096595, 'queue_time': 0.057463864, 'total_time': 0.223318986}, 'model_name': 'meta-llama/llama-4-scout-17b-16e-instruct', 'system_fingerprint': 'fp_37da608fc1', 'service_tier': 'on_demand', 'finish_reason': 'stop', 'logprobs': None}, id='run--30d175e1-d0b5-4f22-83ed-d5337dc9981c-0', usage_metadata={'input_tokens': 122, 'output_tokens': 87, 'total_tokens': 209})], 'summary': \"Here is a summary of our conversation:\\n\\n* You introduced yourself as Lance\\n* You mentioned that you like the San Francisco 49ers\\n* You expressed admiration for Nick Bosa and mentioned that he's one of the highest-paid defensive players in the NFL\\n* I confirmed that Nick Bosa did indeed sign a large contract extension with the 49ers in 2023\\n\\nLet me know if you'd like to continue chatting about the 49ers or anything else!\"}, next=(), config={'configurable': {'thread_id': '1', 'checkpoint_ns': '', 'checkpoint_id': '1f093073-3213-6738-800b-b78a3413ee03'}}, metadata={'source': 'loop', 'step': 11, 'parents': {}}, created_at='2025-09-16T14:12:38.035421+00:00', parent_config={'configurable': {'thread_id': '1', 'checkpoint_ns': '', 'checkpoint_id': '1f093073-2d33-68c6-800a-bbe838823a6a'}}, tasks=(), interrupts=()),\n",
       " StateSnapshot(values={'messages': [HumanMessage(content=\"hi! I'm Lance\", additional_kwargs={}, response_metadata={}, id='437f1b1b-1e7b-46cd-863d-922beb5aaeb0'), AIMessage(content='Hello Lance! Nice to meet you! Is there something I can help you with or would you like to chat?', additional_kwargs={}, response_metadata={'token_usage': {'completion_tokens': 24, 'prompt_tokens': 14, 'total_tokens': 38, 'completion_time': 0.054403995, 'prompt_time': 0.000137448, 'queue_time': 0.048951421, 'total_time': 0.054541443}, 'model_name': 'meta-llama/llama-4-scout-17b-16e-instruct', 'system_fingerprint': 'fp_79da0e0073', 'service_tier': 'on_demand', 'finish_reason': 'stop', 'logprobs': None}, id='run--d84e5365-5305-47a0-a52b-bdf17967abb1-0', usage_metadata={'input_tokens': 14, 'output_tokens': 24, 'total_tokens': 38}), HumanMessage(content=\"what's my name?\", additional_kwargs={}, response_metadata={}, id='1440fc2d-a55f-41fa-9995-4542cab63572'), AIMessage(content='Your name is Lance! You told me that just a minute ago.', additional_kwargs={}, response_metadata={'token_usage': {'completion_tokens': 15, 'prompt_tokens': 52, 'total_tokens': 67, 'completion_time': 0.034123829, 'prompt_time': 0.001610885, 'queue_time': 0.070857365, 'total_time': 0.035734714}, 'model_name': 'meta-llama/llama-4-scout-17b-16e-instruct', 'system_fingerprint': 'fp_37da608fc1', 'service_tier': 'on_demand', 'finish_reason': 'stop', 'logprobs': None}, id='run--0466005f-95c9-4071-b1f9-16b6678ea344-0', usage_metadata={'input_tokens': 52, 'output_tokens': 15, 'total_tokens': 67}), HumanMessage(content='i like the 49ers!', additional_kwargs={}, response_metadata={}, id='38ded389-3e02-4ea5-a52c-e696b6eb140d'), AIMessage(content='Go Niners! Which player is your favorite on the 49ers, Lance?', additional_kwargs={}, response_metadata={'token_usage': {'completion_tokens': 18, 'prompt_tokens': 82, 'total_tokens': 100, 'completion_time': 0.046813278, 'prompt_time': 0.002126236, 'queue_time': 0.051724884, 'total_time': 0.048939514}, 'model_name': 'meta-llama/llama-4-scout-17b-16e-instruct', 'system_fingerprint': 'fp_37da608fc1', 'service_tier': 'on_demand', 'finish_reason': 'stop', 'logprobs': None}, id='run--8d46e883-5b71-4a58-aa37-1a582491bbcb-0', usage_metadata={'input_tokens': 82, 'output_tokens': 18, 'total_tokens': 100}), HumanMessage(content=\"i like Nick Bosa, isn't he the highest paid defensive player?\", additional_kwargs={}, response_metadata={}, id='0888613f-4b65-4aef-8df3-6e96b0f68862'), AIMessage(content=\"Nick Bosa is an absolute beast on the field! And yeah, he is one of the highest-paid defensive players in the NFL. He signed a massive 5-year, $135 million contract extension with the 49ers in 2023, which makes him one of the highest-paid defensive players in the league. What do you think about his performance on the field? Do you think he's worth the big bucks?\", additional_kwargs={}, response_metadata={'token_usage': {'completion_tokens': 87, 'prompt_tokens': 122, 'total_tokens': 209, 'completion_time': 0.219222391, 'prompt_time': 0.004096595, 'queue_time': 0.057463864, 'total_time': 0.223318986}, 'model_name': 'meta-llama/llama-4-scout-17b-16e-instruct', 'system_fingerprint': 'fp_37da608fc1', 'service_tier': 'on_demand', 'finish_reason': 'stop', 'logprobs': None}, id='run--30d175e1-d0b5-4f22-83ed-d5337dc9981c-0', usage_metadata={'input_tokens': 122, 'output_tokens': 87, 'total_tokens': 209})]}, next=('summarize_conversation',), config={'configurable': {'thread_id': '1', 'checkpoint_ns': '', 'checkpoint_id': '1f093073-2d33-68c6-800a-bbe838823a6a'}}, metadata={'source': 'loop', 'step': 10, 'parents': {}}, created_at='2025-09-16T14:12:37.524280+00:00', parent_config={'configurable': {'thread_id': '1', 'checkpoint_ns': '', 'checkpoint_id': '1f093073-2674-69fe-8009-ca42366436c0'}}, tasks=(PregelTask(id='9d44df3d-1051-7d9f-7d11-5d0ea1e13b0c', name='summarize_conversation', path=('__pregel_pull', 'summarize_conversation'), error=None, interrupts=(), state=None, result={'summary': \"Here is a summary of our conversation:\\n\\n* You introduced yourself as Lance\\n* You mentioned that you like the San Francisco 49ers\\n* You expressed admiration for Nick Bosa and mentioned that he's one of the highest-paid defensive players in the NFL\\n* I confirmed that Nick Bosa did indeed sign a large contract extension with the 49ers in 2023\\n\\nLet me know if you'd like to continue chatting about the 49ers or anything else!\", 'messages': [RemoveMessage(content='', additional_kwargs={}, response_metadata={}, id='437f1b1b-1e7b-46cd-863d-922beb5aaeb0'), RemoveMessage(content='', additional_kwargs={}, response_metadata={}, id='run--d84e5365-5305-47a0-a52b-bdf17967abb1-0'), RemoveMessage(content='', additional_kwargs={}, response_metadata={}, id='1440fc2d-a55f-41fa-9995-4542cab63572'), RemoveMessage(content='', additional_kwargs={}, response_metadata={}, id='run--0466005f-95c9-4071-b1f9-16b6678ea344-0'), RemoveMessage(content='', additional_kwargs={}, response_metadata={}, id='38ded389-3e02-4ea5-a52c-e696b6eb140d'), RemoveMessage(content='', additional_kwargs={}, response_metadata={}, id='run--8d46e883-5b71-4a58-aa37-1a582491bbcb-0')]}),), interrupts=()),\n",
       " StateSnapshot(values={'messages': [HumanMessage(content=\"hi! I'm Lance\", additional_kwargs={}, response_metadata={}, id='437f1b1b-1e7b-46cd-863d-922beb5aaeb0'), AIMessage(content='Hello Lance! Nice to meet you! Is there something I can help you with or would you like to chat?', additional_kwargs={}, response_metadata={'token_usage': {'completion_tokens': 24, 'prompt_tokens': 14, 'total_tokens': 38, 'completion_time': 0.054403995, 'prompt_time': 0.000137448, 'queue_time': 0.048951421, 'total_time': 0.054541443}, 'model_name': 'meta-llama/llama-4-scout-17b-16e-instruct', 'system_fingerprint': 'fp_79da0e0073', 'service_tier': 'on_demand', 'finish_reason': 'stop', 'logprobs': None}, id='run--d84e5365-5305-47a0-a52b-bdf17967abb1-0', usage_metadata={'input_tokens': 14, 'output_tokens': 24, 'total_tokens': 38}), HumanMessage(content=\"what's my name?\", additional_kwargs={}, response_metadata={}, id='1440fc2d-a55f-41fa-9995-4542cab63572'), AIMessage(content='Your name is Lance! You told me that just a minute ago.', additional_kwargs={}, response_metadata={'token_usage': {'completion_tokens': 15, 'prompt_tokens': 52, 'total_tokens': 67, 'completion_time': 0.034123829, 'prompt_time': 0.001610885, 'queue_time': 0.070857365, 'total_time': 0.035734714}, 'model_name': 'meta-llama/llama-4-scout-17b-16e-instruct', 'system_fingerprint': 'fp_37da608fc1', 'service_tier': 'on_demand', 'finish_reason': 'stop', 'logprobs': None}, id='run--0466005f-95c9-4071-b1f9-16b6678ea344-0', usage_metadata={'input_tokens': 52, 'output_tokens': 15, 'total_tokens': 67}), HumanMessage(content='i like the 49ers!', additional_kwargs={}, response_metadata={}, id='38ded389-3e02-4ea5-a52c-e696b6eb140d'), AIMessage(content='Go Niners! Which player is your favorite on the 49ers, Lance?', additional_kwargs={}, response_metadata={'token_usage': {'completion_tokens': 18, 'prompt_tokens': 82, 'total_tokens': 100, 'completion_time': 0.046813278, 'prompt_time': 0.002126236, 'queue_time': 0.051724884, 'total_time': 0.048939514}, 'model_name': 'meta-llama/llama-4-scout-17b-16e-instruct', 'system_fingerprint': 'fp_37da608fc1', 'service_tier': 'on_demand', 'finish_reason': 'stop', 'logprobs': None}, id='run--8d46e883-5b71-4a58-aa37-1a582491bbcb-0', usage_metadata={'input_tokens': 82, 'output_tokens': 18, 'total_tokens': 100}), HumanMessage(content=\"i like Nick Bosa, isn't he the highest paid defensive player?\", additional_kwargs={}, response_metadata={}, id='0888613f-4b65-4aef-8df3-6e96b0f68862')]}, next=('conversation',), config={'configurable': {'thread_id': '1', 'checkpoint_ns': '', 'checkpoint_id': '1f093073-2674-69fe-8009-ca42366436c0'}}, metadata={'source': 'loop', 'step': 9, 'parents': {}}, created_at='2025-09-16T14:12:36.816928+00:00', parent_config={'configurable': {'thread_id': '1', 'checkpoint_ns': '', 'checkpoint_id': '1f093073-2672-6b68-8008-ea59442ea8e2'}}, tasks=(PregelTask(id='fbd9cd36-7241-b386-56e1-2ff12a1eb494', name='conversation', path=('__pregel_pull', 'conversation'), error=None, interrupts=(), state=None, result={'messages': AIMessage(content=\"Nick Bosa is an absolute beast on the field! And yeah, he is one of the highest-paid defensive players in the NFL. He signed a massive 5-year, $135 million contract extension with the 49ers in 2023, which makes him one of the highest-paid defensive players in the league. What do you think about his performance on the field? Do you think he's worth the big bucks?\", additional_kwargs={}, response_metadata={'token_usage': {'completion_tokens': 87, 'prompt_tokens': 122, 'total_tokens': 209, 'completion_time': 0.219222391, 'prompt_time': 0.004096595, 'queue_time': 0.057463864, 'total_time': 0.223318986}, 'model_name': 'meta-llama/llama-4-scout-17b-16e-instruct', 'system_fingerprint': 'fp_37da608fc1', 'service_tier': 'on_demand', 'finish_reason': 'stop', 'logprobs': None}, id='run--30d175e1-d0b5-4f22-83ed-d5337dc9981c-0', usage_metadata={'input_tokens': 122, 'output_tokens': 87, 'total_tokens': 209})}),), interrupts=()),\n",
       " StateSnapshot(values={'messages': [HumanMessage(content=\"hi! I'm Lance\", additional_kwargs={}, response_metadata={}, id='437f1b1b-1e7b-46cd-863d-922beb5aaeb0'), AIMessage(content='Hello Lance! Nice to meet you! Is there something I can help you with or would you like to chat?', additional_kwargs={}, response_metadata={'token_usage': {'completion_tokens': 24, 'prompt_tokens': 14, 'total_tokens': 38, 'completion_time': 0.054403995, 'prompt_time': 0.000137448, 'queue_time': 0.048951421, 'total_time': 0.054541443}, 'model_name': 'meta-llama/llama-4-scout-17b-16e-instruct', 'system_fingerprint': 'fp_79da0e0073', 'service_tier': 'on_demand', 'finish_reason': 'stop', 'logprobs': None}, id='run--d84e5365-5305-47a0-a52b-bdf17967abb1-0', usage_metadata={'input_tokens': 14, 'output_tokens': 24, 'total_tokens': 38}), HumanMessage(content=\"what's my name?\", additional_kwargs={}, response_metadata={}, id='1440fc2d-a55f-41fa-9995-4542cab63572'), AIMessage(content='Your name is Lance! You told me that just a minute ago.', additional_kwargs={}, response_metadata={'token_usage': {'completion_tokens': 15, 'prompt_tokens': 52, 'total_tokens': 67, 'completion_time': 0.034123829, 'prompt_time': 0.001610885, 'queue_time': 0.070857365, 'total_time': 0.035734714}, 'model_name': 'meta-llama/llama-4-scout-17b-16e-instruct', 'system_fingerprint': 'fp_37da608fc1', 'service_tier': 'on_demand', 'finish_reason': 'stop', 'logprobs': None}, id='run--0466005f-95c9-4071-b1f9-16b6678ea344-0', usage_metadata={'input_tokens': 52, 'output_tokens': 15, 'total_tokens': 67}), HumanMessage(content='i like the 49ers!', additional_kwargs={}, response_metadata={}, id='38ded389-3e02-4ea5-a52c-e696b6eb140d'), AIMessage(content='Go Niners! Which player is your favorite on the 49ers, Lance?', additional_kwargs={}, response_metadata={'token_usage': {'completion_tokens': 18, 'prompt_tokens': 82, 'total_tokens': 100, 'completion_time': 0.046813278, 'prompt_time': 0.002126236, 'queue_time': 0.051724884, 'total_time': 0.048939514}, 'model_name': 'meta-llama/llama-4-scout-17b-16e-instruct', 'system_fingerprint': 'fp_37da608fc1', 'service_tier': 'on_demand', 'finish_reason': 'stop', 'logprobs': None}, id='run--8d46e883-5b71-4a58-aa37-1a582491bbcb-0', usage_metadata={'input_tokens': 82, 'output_tokens': 18, 'total_tokens': 100})]}, next=('__start__',), config={'configurable': {'thread_id': '1', 'checkpoint_ns': '', 'checkpoint_id': '1f093073-2672-6b68-8008-ea59442ea8e2'}}, metadata={'source': 'input', 'step': 8, 'parents': {}}, created_at='2025-09-16T14:12:36.816150+00:00', parent_config={'configurable': {'thread_id': '1', 'checkpoint_ns': '', 'checkpoint_id': '1f093071-bdb6-6242-8007-3f30f4bffbc4'}}, tasks=(PregelTask(id='247292ea-e79b-54c2-ed07-b1f5b4e591d0', name='__start__', path=('__pregel_pull', '__start__'), error=None, interrupts=(), state=None, result={'messages': [HumanMessage(content=\"i like Nick Bosa, isn't he the highest paid defensive player?\", additional_kwargs={}, response_metadata={}, id='0888613f-4b65-4aef-8df3-6e96b0f68862')]}),), interrupts=()),\n",
       " StateSnapshot(values={'messages': [HumanMessage(content=\"hi! I'm Lance\", additional_kwargs={}, response_metadata={}, id='437f1b1b-1e7b-46cd-863d-922beb5aaeb0'), AIMessage(content='Hello Lance! Nice to meet you! Is there something I can help you with or would you like to chat?', additional_kwargs={}, response_metadata={'token_usage': {'completion_tokens': 24, 'prompt_tokens': 14, 'total_tokens': 38, 'completion_time': 0.054403995, 'prompt_time': 0.000137448, 'queue_time': 0.048951421, 'total_time': 0.054541443}, 'model_name': 'meta-llama/llama-4-scout-17b-16e-instruct', 'system_fingerprint': 'fp_79da0e0073', 'service_tier': 'on_demand', 'finish_reason': 'stop', 'logprobs': None}, id='run--d84e5365-5305-47a0-a52b-bdf17967abb1-0', usage_metadata={'input_tokens': 14, 'output_tokens': 24, 'total_tokens': 38}), HumanMessage(content=\"what's my name?\", additional_kwargs={}, response_metadata={}, id='1440fc2d-a55f-41fa-9995-4542cab63572'), AIMessage(content='Your name is Lance! You told me that just a minute ago.', additional_kwargs={}, response_metadata={'token_usage': {'completion_tokens': 15, 'prompt_tokens': 52, 'total_tokens': 67, 'completion_time': 0.034123829, 'prompt_time': 0.001610885, 'queue_time': 0.070857365, 'total_time': 0.035734714}, 'model_name': 'meta-llama/llama-4-scout-17b-16e-instruct', 'system_fingerprint': 'fp_37da608fc1', 'service_tier': 'on_demand', 'finish_reason': 'stop', 'logprobs': None}, id='run--0466005f-95c9-4071-b1f9-16b6678ea344-0', usage_metadata={'input_tokens': 52, 'output_tokens': 15, 'total_tokens': 67}), HumanMessage(content='i like the 49ers!', additional_kwargs={}, response_metadata={}, id='38ded389-3e02-4ea5-a52c-e696b6eb140d'), AIMessage(content='Go Niners! Which player is your favorite on the 49ers, Lance?', additional_kwargs={}, response_metadata={'token_usage': {'completion_tokens': 18, 'prompt_tokens': 82, 'total_tokens': 100, 'completion_time': 0.046813278, 'prompt_time': 0.002126236, 'queue_time': 0.051724884, 'total_time': 0.048939514}, 'model_name': 'meta-llama/llama-4-scout-17b-16e-instruct', 'system_fingerprint': 'fp_37da608fc1', 'service_tier': 'on_demand', 'finish_reason': 'stop', 'logprobs': None}, id='run--8d46e883-5b71-4a58-aa37-1a582491bbcb-0', usage_metadata={'input_tokens': 82, 'output_tokens': 18, 'total_tokens': 100})]}, next=(), config={'configurable': {'thread_id': '1', 'checkpoint_ns': '', 'checkpoint_id': '1f093071-bdb6-6242-8007-3f30f4bffbc4'}}, metadata={'source': 'loop', 'step': 7, 'parents': {}}, created_at='2025-09-16T14:11:58.990175+00:00', parent_config={'configurable': {'thread_id': '1', 'checkpoint_ns': '', 'checkpoint_id': '1f093071-bb00-6868-8006-2b7e724208c1'}}, tasks=(), interrupts=()),\n",
       " StateSnapshot(values={'messages': [HumanMessage(content=\"hi! I'm Lance\", additional_kwargs={}, response_metadata={}, id='437f1b1b-1e7b-46cd-863d-922beb5aaeb0'), AIMessage(content='Hello Lance! Nice to meet you! Is there something I can help you with or would you like to chat?', additional_kwargs={}, response_metadata={'token_usage': {'completion_tokens': 24, 'prompt_tokens': 14, 'total_tokens': 38, 'completion_time': 0.054403995, 'prompt_time': 0.000137448, 'queue_time': 0.048951421, 'total_time': 0.054541443}, 'model_name': 'meta-llama/llama-4-scout-17b-16e-instruct', 'system_fingerprint': 'fp_79da0e0073', 'service_tier': 'on_demand', 'finish_reason': 'stop', 'logprobs': None}, id='run--d84e5365-5305-47a0-a52b-bdf17967abb1-0', usage_metadata={'input_tokens': 14, 'output_tokens': 24, 'total_tokens': 38}), HumanMessage(content=\"what's my name?\", additional_kwargs={}, response_metadata={}, id='1440fc2d-a55f-41fa-9995-4542cab63572'), AIMessage(content='Your name is Lance! You told me that just a minute ago.', additional_kwargs={}, response_metadata={'token_usage': {'completion_tokens': 15, 'prompt_tokens': 52, 'total_tokens': 67, 'completion_time': 0.034123829, 'prompt_time': 0.001610885, 'queue_time': 0.070857365, 'total_time': 0.035734714}, 'model_name': 'meta-llama/llama-4-scout-17b-16e-instruct', 'system_fingerprint': 'fp_37da608fc1', 'service_tier': 'on_demand', 'finish_reason': 'stop', 'logprobs': None}, id='run--0466005f-95c9-4071-b1f9-16b6678ea344-0', usage_metadata={'input_tokens': 52, 'output_tokens': 15, 'total_tokens': 67}), HumanMessage(content='i like the 49ers!', additional_kwargs={}, response_metadata={}, id='38ded389-3e02-4ea5-a52c-e696b6eb140d')]}, next=('conversation',), config={'configurable': {'thread_id': '1', 'checkpoint_ns': '', 'checkpoint_id': '1f093071-bb00-6868-8006-2b7e724208c1'}}, metadata={'source': 'loop', 'step': 6, 'parents': {}}, created_at='2025-09-16T14:11:58.706070+00:00', parent_config={'configurable': {'thread_id': '1', 'checkpoint_ns': '', 'checkpoint_id': '1f093071-bafe-67de-8005-f51dcacefcc3'}}, tasks=(PregelTask(id='1cd5437c-068d-dfb4-8c6a-4632de59bfb5', name='conversation', path=('__pregel_pull', 'conversation'), error=None, interrupts=(), state=None, result={'messages': AIMessage(content='Go Niners! Which player is your favorite on the 49ers, Lance?', additional_kwargs={}, response_metadata={'token_usage': {'completion_tokens': 18, 'prompt_tokens': 82, 'total_tokens': 100, 'completion_time': 0.046813278, 'prompt_time': 0.002126236, 'queue_time': 0.051724884, 'total_time': 0.048939514}, 'model_name': 'meta-llama/llama-4-scout-17b-16e-instruct', 'system_fingerprint': 'fp_37da608fc1', 'service_tier': 'on_demand', 'finish_reason': 'stop', 'logprobs': None}, id='run--8d46e883-5b71-4a58-aa37-1a582491bbcb-0', usage_metadata={'input_tokens': 82, 'output_tokens': 18, 'total_tokens': 100})}),), interrupts=()),\n",
       " StateSnapshot(values={'messages': [HumanMessage(content=\"hi! I'm Lance\", additional_kwargs={}, response_metadata={}, id='437f1b1b-1e7b-46cd-863d-922beb5aaeb0'), AIMessage(content='Hello Lance! Nice to meet you! Is there something I can help you with or would you like to chat?', additional_kwargs={}, response_metadata={'token_usage': {'completion_tokens': 24, 'prompt_tokens': 14, 'total_tokens': 38, 'completion_time': 0.054403995, 'prompt_time': 0.000137448, 'queue_time': 0.048951421, 'total_time': 0.054541443}, 'model_name': 'meta-llama/llama-4-scout-17b-16e-instruct', 'system_fingerprint': 'fp_79da0e0073', 'service_tier': 'on_demand', 'finish_reason': 'stop', 'logprobs': None}, id='run--d84e5365-5305-47a0-a52b-bdf17967abb1-0', usage_metadata={'input_tokens': 14, 'output_tokens': 24, 'total_tokens': 38}), HumanMessage(content=\"what's my name?\", additional_kwargs={}, response_metadata={}, id='1440fc2d-a55f-41fa-9995-4542cab63572'), AIMessage(content='Your name is Lance! You told me that just a minute ago.', additional_kwargs={}, response_metadata={'token_usage': {'completion_tokens': 15, 'prompt_tokens': 52, 'total_tokens': 67, 'completion_time': 0.034123829, 'prompt_time': 0.001610885, 'queue_time': 0.070857365, 'total_time': 0.035734714}, 'model_name': 'meta-llama/llama-4-scout-17b-16e-instruct', 'system_fingerprint': 'fp_37da608fc1', 'service_tier': 'on_demand', 'finish_reason': 'stop', 'logprobs': None}, id='run--0466005f-95c9-4071-b1f9-16b6678ea344-0', usage_metadata={'input_tokens': 52, 'output_tokens': 15, 'total_tokens': 67})]}, next=('__start__',), config={'configurable': {'thread_id': '1', 'checkpoint_ns': '', 'checkpoint_id': '1f093071-bafe-67de-8005-f51dcacefcc3'}}, metadata={'source': 'input', 'step': 5, 'parents': {}}, created_at='2025-09-16T14:11:58.705238+00:00', parent_config={'configurable': {'thread_id': '1', 'checkpoint_ns': '', 'checkpoint_id': '1f093071-baf8-60f0-8004-b15566261e34'}}, tasks=(PregelTask(id='6ba69ea9-6d6b-bb0b-ccf2-279ece0cc224', name='__start__', path=('__pregel_pull', '__start__'), error=None, interrupts=(), state=None, result={'messages': [HumanMessage(content='i like the 49ers!', additional_kwargs={}, response_metadata={}, id='38ded389-3e02-4ea5-a52c-e696b6eb140d')]}),), interrupts=()),\n",
       " StateSnapshot(values={'messages': [HumanMessage(content=\"hi! I'm Lance\", additional_kwargs={}, response_metadata={}, id='437f1b1b-1e7b-46cd-863d-922beb5aaeb0'), AIMessage(content='Hello Lance! Nice to meet you! Is there something I can help you with or would you like to chat?', additional_kwargs={}, response_metadata={'token_usage': {'completion_tokens': 24, 'prompt_tokens': 14, 'total_tokens': 38, 'completion_time': 0.054403995, 'prompt_time': 0.000137448, 'queue_time': 0.048951421, 'total_time': 0.054541443}, 'model_name': 'meta-llama/llama-4-scout-17b-16e-instruct', 'system_fingerprint': 'fp_79da0e0073', 'service_tier': 'on_demand', 'finish_reason': 'stop', 'logprobs': None}, id='run--d84e5365-5305-47a0-a52b-bdf17967abb1-0', usage_metadata={'input_tokens': 14, 'output_tokens': 24, 'total_tokens': 38}), HumanMessage(content=\"what's my name?\", additional_kwargs={}, response_metadata={}, id='1440fc2d-a55f-41fa-9995-4542cab63572'), AIMessage(content='Your name is Lance! You told me that just a minute ago.', additional_kwargs={}, response_metadata={'token_usage': {'completion_tokens': 15, 'prompt_tokens': 52, 'total_tokens': 67, 'completion_time': 0.034123829, 'prompt_time': 0.001610885, 'queue_time': 0.070857365, 'total_time': 0.035734714}, 'model_name': 'meta-llama/llama-4-scout-17b-16e-instruct', 'system_fingerprint': 'fp_37da608fc1', 'service_tier': 'on_demand', 'finish_reason': 'stop', 'logprobs': None}, id='run--0466005f-95c9-4071-b1f9-16b6678ea344-0', usage_metadata={'input_tokens': 52, 'output_tokens': 15, 'total_tokens': 67})]}, next=(), config={'configurable': {'thread_id': '1', 'checkpoint_ns': '', 'checkpoint_id': '1f093071-baf8-60f0-8004-b15566261e34'}}, metadata={'source': 'loop', 'step': 4, 'parents': {}}, created_at='2025-09-16T14:11:58.702601+00:00', parent_config={'configurable': {'thread_id': '1', 'checkpoint_ns': '', 'checkpoint_id': '1f093071-b82b-6db8-8003-f035f15b35ff'}}, tasks=(), interrupts=()),\n",
       " StateSnapshot(values={'messages': [HumanMessage(content=\"hi! I'm Lance\", additional_kwargs={}, response_metadata={}, id='437f1b1b-1e7b-46cd-863d-922beb5aaeb0'), AIMessage(content='Hello Lance! Nice to meet you! Is there something I can help you with or would you like to chat?', additional_kwargs={}, response_metadata={'token_usage': {'completion_tokens': 24, 'prompt_tokens': 14, 'total_tokens': 38, 'completion_time': 0.054403995, 'prompt_time': 0.000137448, 'queue_time': 0.048951421, 'total_time': 0.054541443}, 'model_name': 'meta-llama/llama-4-scout-17b-16e-instruct', 'system_fingerprint': 'fp_79da0e0073', 'service_tier': 'on_demand', 'finish_reason': 'stop', 'logprobs': None}, id='run--d84e5365-5305-47a0-a52b-bdf17967abb1-0', usage_metadata={'input_tokens': 14, 'output_tokens': 24, 'total_tokens': 38}), HumanMessage(content=\"what's my name?\", additional_kwargs={}, response_metadata={}, id='1440fc2d-a55f-41fa-9995-4542cab63572')]}, next=('conversation',), config={'configurable': {'thread_id': '1', 'checkpoint_ns': '', 'checkpoint_id': '1f093071-b82b-6db8-8003-f035f15b35ff'}}, metadata={'source': 'loop', 'step': 3, 'parents': {}}, created_at='2025-09-16T14:11:58.409248+00:00', parent_config={'configurable': {'thread_id': '1', 'checkpoint_ns': '', 'checkpoint_id': '1f093071-b829-69b4-8002-3cb854294bf1'}}, tasks=(PregelTask(id='ac0f681b-902e-c803-2e31-7e7f0d93b167', name='conversation', path=('__pregel_pull', 'conversation'), error=None, interrupts=(), state=None, result={'messages': AIMessage(content='Your name is Lance! You told me that just a minute ago.', additional_kwargs={}, response_metadata={'token_usage': {'completion_tokens': 15, 'prompt_tokens': 52, 'total_tokens': 67, 'completion_time': 0.034123829, 'prompt_time': 0.001610885, 'queue_time': 0.070857365, 'total_time': 0.035734714}, 'model_name': 'meta-llama/llama-4-scout-17b-16e-instruct', 'system_fingerprint': 'fp_37da608fc1', 'service_tier': 'on_demand', 'finish_reason': 'stop', 'logprobs': None}, id='run--0466005f-95c9-4071-b1f9-16b6678ea344-0', usage_metadata={'input_tokens': 52, 'output_tokens': 15, 'total_tokens': 67})}),), interrupts=()),\n",
       " StateSnapshot(values={'messages': [HumanMessage(content=\"hi! I'm Lance\", additional_kwargs={}, response_metadata={}, id='437f1b1b-1e7b-46cd-863d-922beb5aaeb0'), AIMessage(content='Hello Lance! Nice to meet you! Is there something I can help you with or would you like to chat?', additional_kwargs={}, response_metadata={'token_usage': {'completion_tokens': 24, 'prompt_tokens': 14, 'total_tokens': 38, 'completion_time': 0.054403995, 'prompt_time': 0.000137448, 'queue_time': 0.048951421, 'total_time': 0.054541443}, 'model_name': 'meta-llama/llama-4-scout-17b-16e-instruct', 'system_fingerprint': 'fp_79da0e0073', 'service_tier': 'on_demand', 'finish_reason': 'stop', 'logprobs': None}, id='run--d84e5365-5305-47a0-a52b-bdf17967abb1-0', usage_metadata={'input_tokens': 14, 'output_tokens': 24, 'total_tokens': 38})]}, next=('__start__',), config={'configurable': {'thread_id': '1', 'checkpoint_ns': '', 'checkpoint_id': '1f093071-b829-69b4-8002-3cb854294bf1'}}, metadata={'source': 'input', 'step': 2, 'parents': {}}, created_at='2025-09-16T14:11:58.408326+00:00', parent_config={'configurable': {'thread_id': '1', 'checkpoint_ns': '', 'checkpoint_id': '1f093071-b823-65aa-8001-3d20491b74a5'}}, tasks=(PregelTask(id='8d83d4a8-76b3-8c02-77d7-f36e4141700a', name='__start__', path=('__pregel_pull', '__start__'), error=None, interrupts=(), state=None, result={'messages': [HumanMessage(content=\"what's my name?\", additional_kwargs={}, response_metadata={}, id='1440fc2d-a55f-41fa-9995-4542cab63572')]}),), interrupts=()),\n",
       " StateSnapshot(values={'messages': [HumanMessage(content=\"hi! I'm Lance\", additional_kwargs={}, response_metadata={}, id='437f1b1b-1e7b-46cd-863d-922beb5aaeb0'), AIMessage(content='Hello Lance! Nice to meet you! Is there something I can help you with or would you like to chat?', additional_kwargs={}, response_metadata={'token_usage': {'completion_tokens': 24, 'prompt_tokens': 14, 'total_tokens': 38, 'completion_time': 0.054403995, 'prompt_time': 0.000137448, 'queue_time': 0.048951421, 'total_time': 0.054541443}, 'model_name': 'meta-llama/llama-4-scout-17b-16e-instruct', 'system_fingerprint': 'fp_79da0e0073', 'service_tier': 'on_demand', 'finish_reason': 'stop', 'logprobs': None}, id='run--d84e5365-5305-47a0-a52b-bdf17967abb1-0', usage_metadata={'input_tokens': 14, 'output_tokens': 24, 'total_tokens': 38})]}, next=(), config={'configurable': {'thread_id': '1', 'checkpoint_ns': '', 'checkpoint_id': '1f093071-b823-65aa-8001-3d20491b74a5'}}, metadata={'source': 'loop', 'step': 1, 'parents': {}}, created_at='2025-09-16T14:11:58.405765+00:00', parent_config={'configurable': {'thread_id': '1', 'checkpoint_ns': '', 'checkpoint_id': '1f093071-b2c2-6ec6-8000-7555dcfaf999'}}, tasks=(), interrupts=()),\n",
       " StateSnapshot(values={'messages': [HumanMessage(content=\"hi! I'm Lance\", additional_kwargs={}, response_metadata={}, id='437f1b1b-1e7b-46cd-863d-922beb5aaeb0')]}, next=('conversation',), config={'configurable': {'thread_id': '1', 'checkpoint_ns': '', 'checkpoint_id': '1f093071-b2c2-6ec6-8000-7555dcfaf999'}}, metadata={'source': 'loop', 'step': 0, 'parents': {}}, created_at='2025-09-16T14:11:57.841977+00:00', parent_config={'configurable': {'thread_id': '1', 'checkpoint_ns': '', 'checkpoint_id': '1f093071-b2c0-60ea-bfff-63b167cecb00'}}, tasks=(PregelTask(id='04c6b27b-b526-36a2-1bea-10b7914e0602', name='conversation', path=('__pregel_pull', 'conversation'), error=None, interrupts=(), state=None, result={'messages': AIMessage(content='Hello Lance! Nice to meet you! Is there something I can help you with or would you like to chat?', additional_kwargs={}, response_metadata={'token_usage': {'completion_tokens': 24, 'prompt_tokens': 14, 'total_tokens': 38, 'completion_time': 0.054403995, 'prompt_time': 0.000137448, 'queue_time': 0.048951421, 'total_time': 0.054541443}, 'model_name': 'meta-llama/llama-4-scout-17b-16e-instruct', 'system_fingerprint': 'fp_79da0e0073', 'service_tier': 'on_demand', 'finish_reason': 'stop', 'logprobs': None}, id='run--d84e5365-5305-47a0-a52b-bdf17967abb1-0', usage_metadata={'input_tokens': 14, 'output_tokens': 24, 'total_tokens': 38})}),), interrupts=()),\n",
       " StateSnapshot(values={'messages': []}, next=('__start__',), config={'configurable': {'thread_id': '1', 'checkpoint_ns': '', 'checkpoint_id': '1f093071-b2c0-60ea-bfff-63b167cecb00'}}, metadata={'source': 'input', 'step': -1, 'parents': {}}, created_at='2025-09-16T14:11:57.840806+00:00', parent_config=None, tasks=(PregelTask(id='9994aa1a-c4d5-3bed-37ce-4871653703b3', name='__start__', path=('__pregel_pull', '__start__'), error=None, interrupts=(), state=None, result={'messages': [HumanMessage(content=\"hi! I'm Lance\", additional_kwargs={}, response_metadata={}, id='437f1b1b-1e7b-46cd-863d-922beb5aaeb0')]}),), interrupts=())]"
      ]
     },
     "execution_count": 20,
     "metadata": {},
     "output_type": "execute_result"
    }
   ],
   "source": [
    "# You can get the full history of the graph execution for a given thread by calling\n",
    "config = {\"configurable\": {\"thread_id\": \"1\"}}\n",
    "list(graph.get_state_history(config))"
   ]
  },
  {
   "cell_type": "markdown",
   "id": "ad7cc0ab-905a-4037-b7cb-69db5b89591e",
   "metadata": {},
   "source": [
    "## LangSmith\n",
    "\n",
    "Let's review the trace!"
   ]
  }
 ],
 "metadata": {
  "kernelspec": {
   "display_name": "Python 3 (ipykernel)",
   "language": "python",
   "name": "python3"
  },
  "language_info": {
   "codemirror_mode": {
    "name": "ipython",
    "version": 3
   },
   "file_extension": ".py",
   "mimetype": "text/x-python",
   "name": "python",
   "nbconvert_exporter": "python",
   "pygments_lexer": "ipython3",
   "version": "3.13.3"
  }
 },
 "nbformat": 4,
 "nbformat_minor": 5
}
